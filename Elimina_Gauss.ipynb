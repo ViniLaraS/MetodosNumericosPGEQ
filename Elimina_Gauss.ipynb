{
  "nbformat": 4,
  "nbformat_minor": 0,
  "metadata": {
    "colab": {
      "name": "Elimina_Gauss.ipynb",
      "provenance": [],
      "collapsed_sections": [],
      "authorship_tag": "ABX9TyOaeLhdn0loXNV4Z8753Uyd",
      "include_colab_link": true
    },
    "kernelspec": {
      "name": "python3",
      "display_name": "Python 3"
    },
    "language_info": {
      "name": "python"
    }
  },
  "cells": [
    {
      "cell_type": "markdown",
      "metadata": {
        "id": "view-in-github",
        "colab_type": "text"
      },
      "source": [
        "<a href=\"https://colab.research.google.com/github/ViniLaraS/MetodosNumericosPGEQ/blob/main/Elimina_Gauss.ipynb\" target=\"_parent\"><img src=\"https://colab.research.google.com/assets/colab-badge.svg\" alt=\"Open In Colab\"/></a>"
      ]
    },
    {
      "cell_type": "code",
      "metadata": {
        "id": "gniVKBXENz3k"
      },
      "source": [
        "import numpy as np\n",
        "import time\n",
        "import matplotlib.pyplot as plt\n",
        "import numpy.linalg as npla\n",
        "\n",
        "########################################################\n",
        "# Function to decompose the matrix\n",
        "# in an upper triangular form\n",
        "########################################################\n",
        "\n",
        "def LU(A,f):\n",
        "  # get the size of the system\n",
        "  n = len(f)\n",
        "  \n",
        "  # check the size\n",
        "  \n",
        "  if (A.shape[0] != n) or (A.shape[1] != n):\n",
        "    print('\\t Inconsistent size in LU decomposition')\n",
        "    info = 0\n",
        "    return M,info\n",
        "\n",
        "  # create the augmented matrix\n",
        "  M = np.zeros((n,n+1))\n",
        "  M[:,:-1] = A\n",
        "  M[:,-1] = f\n",
        "\n",
        "  # loop through all the colum\n",
        "  # to get rid of the lower part\n",
        "  for iC in range(n-1):\n",
        "    # for each column loop over all the lines\n",
        "    # that are below the diagonal\n",
        "    # to set to 0 their elements\n",
        "    for iL in range(iC+1,n):\n",
        "      # check if the diagonal element\n",
        "      # is null\n",
        "      if(M[iC,iC] == 0):\n",
        "        print('\\t Zero on the diagonal, LU failed')\n",
        "        info = 0\n",
        "        return M,info\n",
        "      # eliminate the element\n",
        "      M[iL,:] = M[iL,:] - M[iL,iC]/M[iC,iC] * M[iC,:]\n",
        "\n",
        "   # if we succed we return info = 1 and the upper augmetned matrix\n",
        "\n",
        "  info = 1\n",
        "  return M,info"
      ],
      "execution_count": 3,
      "outputs": []
    },
    {
      "cell_type": "code",
      "metadata": {
        "id": "BVhHiF0BN8YL"
      },
      "source": [
        "########################################################\n",
        "# Function to backsubstitute the results\n",
        "# and get the final solution\n",
        "########################################################\n",
        "def BS(M):\n",
        "  # get the size of the matrix\n",
        "  n = M.shape[0]\n",
        "  # loop over all the lines\n",
        "  # starting by the end\n",
        "  for iL in range(n-1,-1,-1):\n",
        "    # check if we have diagonal elements on the diagonal\n",
        "    if(M[iL,iL] == 0):\n",
        "      print('\\t Zero on the diagonal, LU failed')\n",
        "      info = 0\n",
        "      return M,info\n",
        "    # divide the line by the diagonal element of M\n",
        "    M[iL,:] /= M[iL,iL]\n",
        "    \n",
        "    # loop over all the lines that are above this onef\n",
        "    for iLL in range(iL-1,-1,-1):\n",
        "      M[iLL,:] -= M[iLL,iL]*M[iL,:]\n",
        "\n",
        "  info = 1\n",
        "  return M,info\n",
        "\n",
        "########################################################\n",
        "########################################################"
      ],
      "execution_count": 4,
      "outputs": []
    },
    {
      "cell_type": "code",
      "metadata": {
        "colab": {
          "base_uri": "https://localhost:8080/"
        },
        "id": "anuId_H_IWyD",
        "outputId": "033eb31c-00cd-4d09-eeb5-38acdb4a6f3a"
      },
      "source": [
        "# create the matrix A\n",
        "A = np. array ([[0.9 ,0.3 ,0.1] ,[0.1 ,0.5 ,0.2] , [0.0 ,0.2 ,0.7]])\n",
        "\n",
        "# create the right-hand side\n",
        "feed = np. array ([30.0 ,25.0 ,10.0])\n",
        "\n",
        "M,info = LU(A,feed)\n",
        "x,info = BS(M)\n",
        "\n",
        "# print the solution\n",
        "print(x)\n",
        "\n",
        "# check the solution\n",
        "check_sol = np.dot(A,x)\n",
        "print(check_sol) "
      ],
      "execution_count": 5,
      "outputs": [
        {
          "output_type": "stream",
          "text": [
            "[[ 1.          0.          0.         17.88461538]\n",
            " [ 0.          1.          0.         45.96153846]\n",
            " [ 0.          0.          1.          1.15384615]]\n",
            "[[ 0.9  0.3  0.1 30. ]\n",
            " [ 0.1  0.5  0.2 25. ]\n",
            " [ 0.   0.2  0.7 10. ]]\n"
          ],
          "name": "stdout"
        }
      ]
    },
    {
      "cell_type": "code",
      "metadata": {
        "colab": {
          "base_uri": "https://localhost:8080/"
        },
        "id": "W9ew6k12ORSx",
        "outputId": "de522d38-68a1-4f18-efd3-c7513da85d82"
      },
      "source": [
        "def resultado(A):\n",
        "  B = A + A + A\n",
        "  return B\n",
        "\n",
        "B = A + A\n",
        "print(B)\n",
        "C = resultado(A)\n",
        "print(C)\n",
        "\n",
        "# informa a dimensão da matriz (se colocar entre colchetes ele informa a dimensão das linhas ou colunas apenas)\n",
        "print(A.shape)"
      ],
      "execution_count": 6,
      "outputs": [
        {
          "output_type": "stream",
          "text": [
            "[[1.8 0.6 0.2]\n",
            " [0.2 1.  0.4]\n",
            " [0.  0.4 1.4]]\n",
            "[[2.7 0.9 0.3]\n",
            " [0.3 1.5 0.6]\n",
            " [0.  0.6 2.1]]\n",
            "(3, 3)\n"
          ],
          "name": "stdout"
        }
      ]
    }
  ]
}